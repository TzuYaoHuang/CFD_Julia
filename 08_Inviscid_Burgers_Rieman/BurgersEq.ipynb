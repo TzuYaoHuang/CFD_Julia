{
 "cells": [
  {
   "cell_type": "code",
   "execution_count": 39,
   "metadata": {},
   "outputs": [],
   "source": [
    "\"\"\"\n",
    "Inviscid Burgers Equation: Non-Conservative Form\n",
    "    Spatial: WENO-5\n",
    "    Temporal: RK3\n",
    "\"\"\"\n",
    "import numpy as np\n",
    "import matplotlib.pyplot as plt\n",
    "import scipy.sparse\n",
    "import numpy.linalg\n"
   ]
  },
  {
   "cell_type": "code",
   "execution_count": null,
   "metadata": {},
   "outputs": [],
   "source": [
    "def InitialCondition(x):\n",
    "    return np.sin(2*np.pi*x)"
   ]
  },
  {
   "cell_type": "code",
   "execution_count": null,
   "metadata": {},
   "outputs": [],
   "source": [
    "def BoundaryConditionDir(u):\n",
    "    u[2],u[-3] = 0,0\n",
    "    u[0] = 3*u[3] - 2*u[4]\n",
    "    u[1] = 2*u[3] - 1*u[4]\n",
    "    u[-2] = 2*u[-3]-1*u[-4]\n",
    "    u[-1] = 3*u[-3]-2*u[-4]\n",
    "\n",
    "def BoundaryConditionPer(u):\n",
    "    u[2],u[-3] = 0,0\n",
    "    u[[0,1]] = u[[-4,-3]]\n",
    "    u[[-2,-1]] = u[[2,3]]"
   ]
  },
  {
   "cell_type": "code",
   "execution_count": null,
   "metadata": {},
   "outputs": [],
   "source": [
    "def WENOfromLeft(v1,v2,v3,v4,v5):\n",
    "    # if the flow come from left\n",
    "    # the velocity value at i+1/2\n",
    "    # i-2, i-1, i, i+1, i+2\n",
    "    eps = 1e-6\n",
    "    dL = np.array([0.1, 0.6, 0.3])\n",
    "    b = np.array([\n",
    "        (13.0/12.0)*(v1-2.0*v2+v3)**2 + 0.25*(v1-4.0*v2+3.0*v3)**2,\n",
    "        (13.0/12.0)*(v2-2.0*v3+v4)**2 + 0.25*(v2-v4)**2,\n",
    "        (13.0/12.0)*(v3-2.0*v4+v5)**2 + 0.25*(3.0*v3-4.0*v4+v5)**2\n",
    "    ])\n",
    "    a = dL/(b+eps)**2\n",
    "    wL = a/np.sum(a)\n",
    "    uL = (\n",
    "        wL[0]*(v1/3.0 - 7.0/6.0*v2 + 11.0/6.0*v3) +\n",
    "        wL[1]*(-v2/6.0 + 5.0/6.0*v3 + v4/3.0) +\n",
    "        wL[2]*(v3/3.0 + 5.0/6.0*v4 - v5/6.0)\n",
    "    )\n",
    "    return uL\n",
    "\n",
    "def WENOfromRight(v1,v2,v3,v4,v5):\n",
    "    # if the flow come from left\n",
    "    # the velocity value at i+1/2\n",
    "    # i-2, i-1, i, i+1, i+2\n",
    "    eps = 1e-6\n",
    "    dR = np.array([0.3, 0.6, 0.1])\n",
    "    b = np.array([\n",
    "        (13.0/12.0)*(v1-2.0*v2+v3)**2 + 0.25*(v1-4.0*v2+3.0*v3)**2,\n",
    "        (13.0/12.0)*(v2-2.0*v3+v4)**2 + 0.25*(v2-v4)**2,\n",
    "        (13.0/12.0)*(v3-2.0*v4+v5)**2 + 0.25*(3.0*v3-4.0*v4+v5)**2\n",
    "    ])\n",
    "    a = dR/(b+eps)**2\n",
    "    wR = a/np.sum(a)\n",
    "    uR = (\n",
    "        wR[0]*(-1.0/6.0*v1 - 5.0/6.0*v2 + 1.0/3.0*v3) +\n",
    "        wR[1]*(v2/3.0 + 5.0/6.0*v3 + v4/6.0) +\n",
    "        wR[2]*(11.0*v3/6.0 - 7.0/6.0*v4 +1.0/3.0*v5)\n",
    "    )\n",
    "    return uR"
   ]
  },
  {
   "cell_type": "code",
   "execution_count": null,
   "metadata": {},
   "outputs": [],
   "source": [
    "def RK3WENO(uOrig, dX, dT, alpha, BCfun):\n",
    "    # NOTE: the journal is incorrect please have a look on\n",
    "    # Proposition 3.2 in TOTAL VARIATION DIMINISHING RUNGE-KUTTA SCHEMES\n",
    "    uOne = uOrig*np.nan\n",
    "    uTwo = uOrig*np.nan\n",
    "    uNow = uOrig*np.nan\n",
    "    # First Intermediate\n",
    "    uOne[3:-3] = uOrig[3:-3] + dT/dX * (\n",
    "        max(uOrig[3:-3],0) * (\n",
    "            WENOfromLeft(uOrig[1:-5], uOrig[2:-4], uOrig[3:-3], uOrig[4:-2], uOrig[5:-1]) -\n",
    "            WENOfromLeft(uOrig[0:-6], uOrig[1:-5], uOrig[2:-4], uOrig[3:-3], uOrig[4:-2])\n",
    "        ) +\n",
    "        min(uOrig[3:-3],0) * (\n",
    "            WENOfromRight(uOrig[2:-4], uOrig[3:-3], uOrig[4:-2], uOrig[5:-1], uOrig[6:]) -\n",
    "            WENOfromRight(uOrig[0:-6], uOrig[1:-5], uOrig[2:-4], uOrig[3:-3], uOrig[4:-2])\n",
    "        )\n",
    "    )\n",
    "    BCfun(uOne)\n",
    "\n",
    "    # Second Intermediate\n",
    "    uTwo[3:-3] = 3./4. * uOrig[3:-3] + 1./4. * uOne[3:-3] + 0.25 * dT/dX * (\n",
    "        max(uOne[3:-3],0) * (\n",
    "            WENOfromLeft(uOne[1:-5], uOne[2:-4], uOne[3:-3], uOne[4:-2], uOne[5:-1]) -\n",
    "            WENOfromLeft(uOne[0:-6], uOne[1:-5], uOne[2:-4], uOne[3:-3], uOne[4:-2])\n",
    "        ) +\n",
    "        min(uOne[3:-3],0) * (\n",
    "            WENOfromRight(uOne[2:-4], uOne[3:-3], uOne[4:-2], uOne[5:-1], uOne[6:]) -\n",
    "            WENOfromRight(uOne[0:-6], uOne[1:-5], uOne[2:-4], uOne[3:-3], uOne[4:-2])\n",
    "        )\n",
    "    )\n",
    "    BCfun(uTwo)\n",
    "\n",
    "    # Final\n",
    "    uNow[3:-3] = 1./3. * uOrig[3:-3] + 2./3. * uTwo[3:-3] + 2.0/3.0 * dT/dX * (\n",
    "        max(uTwo[3:-3],0) * (\n",
    "            WENOfromLeft(uTwo[1:-5], uTwo[2:-4], uTwo[3:-3], uTwo[4:-2], uTwo[5:-1]) -\n",
    "            WENOfromLeft(uTwo[0:-6], uTwo[1:-5], uTwo[2:-4], uTwo[3:-3], uTwo[4:-2])\n",
    "        ) +\n",
    "        min(uTwo[3:-3],0) * (\n",
    "            WENOfromRight(uTwo[2:-4], uTwo[3:-3], uTwo[4:-2], uTwo[5:-1], uTwo[6:]) -\n",
    "            WENOfromRight(uTwo[0:-6], uTwo[1:-5], uTwo[2:-4], uTwo[3:-3], uTwo[4:-2])\n",
    "        )\n",
    "    )\n",
    "    BCfun(uNow)\n",
    "    return uNow"
   ]
  },
  {
   "cell_type": "code",
   "execution_count": null,
   "metadata": {},
   "outputs": [],
   "source": [
    "xMin, xMax = (0., 1.)\n",
    "numPoint = 81\n",
    "xPoints = np.linspace(xMin, xMax, num=numPoint)\n",
    "deltaX = xPoints[1] - xPoints[0]\n",
    "xPwG = np.array([\n",
    "    *(xPoints[0:2]-2*deltaX), *xPoints,*(xPoints[-2:]+2*deltaX)\n",
    "])"
   ]
  }
 ],
 "metadata": {
  "kernelspec": {
   "display_name": "base",
   "language": "python",
   "name": "python3"
  },
  "language_info": {
   "codemirror_mode": {
    "name": "ipython",
    "version": 3
   },
   "file_extension": ".py",
   "mimetype": "text/x-python",
   "name": "python",
   "nbconvert_exporter": "python",
   "pygments_lexer": "ipython3",
   "version": "3.9.13"
  },
  "orig_nbformat": 4,
  "vscode": {
   "interpreter": {
    "hash": "21f3e4b7686f5765b53a86d750e9c9699b0ca8e58efbef957fc535a6f28d5d61"
   }
  }
 },
 "nbformat": 4,
 "nbformat_minor": 2
}
