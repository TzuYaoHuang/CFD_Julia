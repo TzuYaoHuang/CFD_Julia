{
 "cells": [
  {
   "cell_type": "code",
   "execution_count": 1,
   "metadata": {},
   "outputs": [],
   "source": [
    "\"\"\"\n",
    "1D Euler Equation: Conservative Form\n",
    "    Spatial: WENO-5 Roe's Riemann Solver, HLLC, Rusanov\n",
    "    Temporal: RK3\n",
    "\"\"\"\n",
    "import sys\n",
    "import numpy as np\n",
    "import matplotlib.pyplot as plt\n",
    "import scipy.sparse\n",
    "import numpy.linalg\n",
    "from tqdm.notebook import tqdm\n",
    "np.set_printoptions(threshold=sys.maxsize, linewidth=np.inf)\n"
   ]
  },
  {
   "cell_type": "code",
   "execution_count": 2,
   "metadata": {},
   "outputs": [],
   "source": [
    "gamma = 1.4 # specific gas ratio\n",
    "\n",
    "# Sod's Riemann problem\n",
    "# Left side\n",
    "rhoL = 1.0\n",
    "uL = 0.0\n",
    "pL = 1.0\n",
    "eL = pL/(rhoL*(gamma-1)) + 0.5*uL**2\n",
    "qL = np.array([rhoL, rhoL*uL, rhoL*eL])\n",
    "# Right side\n",
    "rhoR = 0.125\n",
    "uR = 0.0\n",
    "pR = 0.1\n",
    "eR = pR/(rhoR*(gamma-1)) + 0.5*uR**2\n",
    "qR = np.array([rhoR, rhoR*uR, rhoR*eR])"
   ]
  },
  {
   "cell_type": "code",
   "execution_count": 3,
   "metadata": {},
   "outputs": [],
   "source": [
    "def InitialCondition(x):\n",
    "    rho = (x<=0.5)*rhoL + (x>0.5)*rhoR\n",
    "    u = (x<=0.5)*uL + (x>0.5)*uR\n",
    "    e = (x<=0.5)*eL + (x>0.5)*eR\n",
    "\n",
    "    return np.vstack([rho, rho*u, rho*e])"
   ]
  },
  {
   "cell_type": "code",
   "execution_count": 4,
   "metadata": {},
   "outputs": [],
   "source": [
    "def BoundaryConditionDir(u):\n",
    "    u[:,0:3] = qL[:,np.newaxis]*np.array([[6,4,2]]) - u[:,3][:,np.newaxis]*np.array([[5,3,1]])\n",
    "    u[:,-3:] = qR[:,np.newaxis]*np.array([[2,4,6]]) - u[:,-4][:,np.newaxis]*np.array([[1,3,5]])\n",
    "\n",
    "    # u[:,0:3] = qL[:,np.newaxis]*np.array([[1,1,1]])\n",
    "    # u[:,-3:] = qR[:,np.newaxis]*np.array([[1,1,1]])"
   ]
  },
  {
   "cell_type": "code",
   "execution_count": 5,
   "metadata": {},
   "outputs": [],
   "source": [
    "def WENOSmoothCoeffL(v1,v2,v3,v4,v5):\n",
    "    eps = 1e-6\n",
    "    dL = np.array([0.2, 0.5, 0.3])[:,np.newaxis,np.newaxis]\n",
    "    b = np.array([\n",
    "        (13.0/12.0)*(v1-2.0*v2+v3)**2 + 0.25*(v1-4.0*v2+3.0*v3)**2,\n",
    "        (13.0/12.0)*(v2-2.0*v3+v4)**2 + 0.25*(v2-v4)**2,\n",
    "        (13.0/12.0)*(v3-2.0*v4+v5)**2 + 0.25*(3.0*v3-4.0*v4+v5)**2\n",
    "    ])\n",
    "    a = dL/(b+eps)**2 # WENO-5\n",
    "    a = dL*(1+(np.abs(b[2,:,:]-b[0,:,:])/(b+eps))**2)  # WENO-Z\n",
    "    return a/np.sum(a, axis=0)\n",
    "\n",
    "def WENOSmoothCoeffR(v1,v2,v3,v4,v5):\n",
    "    eps = 1e-6\n",
    "    dR = np.array([0.3, 0.5, 0.2])[:,np.newaxis,np.newaxis]\n",
    "    b = np.array([\n",
    "        (13.0/12.0)*(v1-2.0*v2+v3)**2 + 0.25*(v1-4.0*v2+3.0*v3)**2,\n",
    "        (13.0/12.0)*(v2-2.0*v3+v4)**2 + 0.25*(v2-v4)**2,\n",
    "        (13.0/12.0)*(v3-2.0*v4+v5)**2 + 0.25*(3.0*v3-4.0*v4+v5)**2\n",
    "    ])\n",
    "    a = dR/(b+eps)**2\n",
    "    a = dR*(1+(np.abs(b[2,:,:]-b[0,:,:])/(b+eps))**2)\n",
    "    return a/np.sum(a, axis=0)"
   ]
  },
  {
   "cell_type": "code",
   "execution_count": 6,
   "metadata": {},
   "outputs": [],
   "source": [
    "def WENOfromLeft(v1,v2,v3,v4,v5):\n",
    "    # if the flow come from left\n",
    "    # the velocity value at i+1/2\n",
    "    # i-2, i-1, i | i+1, i+2\n",
    "    wL = WENOSmoothCoeffL(v1,v2,v3,v4,v5)\n",
    "    uL = (\n",
    "        wL[0,:,:]*(v1/3.0 - 7.0/6.0*v2 + 11.0/6.0*v3) +\n",
    "        wL[1,:,:]*(-v2/6.0 + 5.0/6.0*v3 + v4/3.0) +\n",
    "        wL[2,:,:]*(v3/3.0 + 5.0/6.0*v4 - v5/6.0)\n",
    "    )\n",
    "    return uL\n",
    "\n",
    "def WENOfromRight(v1,v2,v3,v4,v5):\n",
    "    # if the flow come from left\n",
    "    # the velocity value at i-1/2\n",
    "    # i-2, i-1 | i , i+1, i+2\n",
    "    wR = WENOSmoothCoeffR(v1,v2,v3,v4,v5)\n",
    "    uR = (\n",
    "        wR[0,:,:]*(-1.0/6.0*v1 + 5.0/6.0*v2 + 1.0/3.0*v3) +\n",
    "        wR[1,:,:]*(v2/3.0 + 5.0/6.0*v3 - v4/6.0) +\n",
    "        wR[2,:,:]*(11.0*v3/6.0 - 7.0/6.0*v4 +1.0/3.0*v5)\n",
    "    )\n",
    "    return uR"
   ]
  },
  {
   "cell_type": "code",
   "execution_count": 7,
   "metadata": {},
   "outputs": [],
   "source": [
    "def LeftRightFluxes(q):\n",
    "    qL = WENOfromLeft(q[:,0:-5], q[:,1:-4], q[:,2:-3], q[:,3:-2], q[:,4:-1])\n",
    "    qR = WENOfromRight(q[:,1:-4], q[:,2:-3], q[:,3:-2], q[:,4:-1], q[:,5:])\n",
    "\n",
    "    rhL = qL[0,:]\n",
    "    uuL = qL[1,:]/rhL\n",
    "    eeL = qL[2,:]/rhL\n",
    "    ppL = rhL*(gamma-1)*(eeL-0.5*uuL**2)\n",
    "    hhL = eeL+ppL/rhL\n",
    "    aaL = np.sqrt(np.abs(gamma*ppL/rhL))\n",
    "    FL = np.vstack([\n",
    "        qL[1,:], rhL*uuL**2+ppL, rhL*uuL*hhL\n",
    "    ])\n",
    "\n",
    "    rhR = qR[0,:]\n",
    "    uuR = qR[1,:]/rhR\n",
    "    eeR = qR[2,:]/rhR\n",
    "    ppR = rhR*(gamma-1)*(eeR-0.5*uuR**2)\n",
    "    hhR = eeR+ppR/rhR\n",
    "    aaR = np.sqrt(np.abs(gamma*ppR/rhR))\n",
    "    FR = np.vstack([\n",
    "        qR[1,:], rhR*uuR**2+ppR, rhR*uuR*hhR\n",
    "    ])\n",
    "\n",
    "    return qL,qR,rhL,uuL,eeL,ppL,hhL,aaL,FL,rhR,uuR,eeR,ppR,hhR,aaR,FR"
   ]
  },
  {
   "cell_type": "code",
   "execution_count": 8,
   "metadata": {},
   "outputs": [],
   "source": [
    "def RoeAvg(rhL,rhR,uuL,uuR,hhL,hhR):\n",
    "    sRHL = np.sqrt(rhL)\n",
    "    sRHR = np.sqrt(rhR)\n",
    "    sRHLpsRHR = sRHL+sRHR\n",
    "\n",
    "    uRoeAvg = (uuL*sRHL+uuR*sRHR)/sRHLpsRHR\n",
    "    hRoeAvg = (hhL*sRHL+hhR*sRHR)/sRHLpsRHR\n",
    "    aRoeAvg = np.sqrt((gamma-1)*(hRoeAvg-0.5*uRoeAvg**2))\n",
    "    return uRoeAvg, hRoeAvg, aRoeAvg"
   ]
  },
  {
   "cell_type": "code",
   "execution_count": 9,
   "metadata": {},
   "outputs": [],
   "source": [
    "def RoeFlux(q, BCFun):\n",
    "    qL,qR,rhL,uuL,eeL,ppL,hhL,aaL,FL,rhR,uuR,eeR,ppR,hhR,aaR,FR = LeftRightFluxes(q)\n",
    "\n",
    "    uRoeAvg, hRoeAvg, aRoeAvg = RoeAvg(rhL,rhR,uuL,uuR,hhL,hhR)\n",
    "    p2RoeAvg = 0.5*(gamma-1)*uRoeAvg**2\n",
    "    betaRoeAvg = 1/(2*aRoeAvg**2)\n",
    "    zeros = np.zeros(uRoeAvg.shape)\n",
    "    ones = np.ones(uRoeAvg.shape)\n",
    "\n",
    "    R = np.array([\n",
    "        [ones, betaRoeAvg, betaRoeAvg],\n",
    "        [uRoeAvg, betaRoeAvg*(uRoeAvg+aRoeAvg), betaRoeAvg*(uRoeAvg-aRoeAvg)],\n",
    "        [p2RoeAvg/(gamma-1), betaRoeAvg*(hRoeAvg+uRoeAvg*aRoeAvg), betaRoeAvg*(hRoeAvg-uRoeAvg*aRoeAvg)]\n",
    "    ])\n",
    "\n",
    "    L = np.array([\n",
    "        [1-p2RoeAvg/aRoeAvg**2, (gamma-1)*uRoeAvg/aRoeAvg**2, -(gamma-1)/aRoeAvg**2],\n",
    "        [p2RoeAvg-uRoeAvg*aRoeAvg, aRoeAvg-(gamma-1)*uRoeAvg, gamma-ones],\n",
    "        [p2RoeAvg+uRoeAvg*aRoeAvg, -aRoeAvg-(gamma-1)*uRoeAvg, gamma-ones]\n",
    "    ])\n",
    "\n",
    "    D = np.abs(np.array([\n",
    "        [uRoeAvg, zeros, zeros], \n",
    "        [zeros, uRoeAvg+aRoeAvg, zeros], \n",
    "        [zeros, zeros, uRoeAvg-aRoeAvg]\n",
    "    ])) # NOTE: here is an absolute value!!!\n",
    "\n",
    "\n",
    "    return 0.5*(FR+FL) - 0.5*np.einsum('ijk,jmk,mnk,nk->ik',R,D,L,(qR-qL))\n"
   ]
  },
  {
   "attachments": {},
   "cell_type": "markdown",
   "metadata": {},
   "source": [
    "The HLLC flux condition should be \n",
    "$$\n",
    "F_{i+\\frac{1}{2}} = \n",
    "\\begin{dcases}\n",
    "F^L, & \\quad \\text{if } S_L \\geq 0 \\\\\n",
    "F^R, & \\quad \\text{if } S_R \\leq 0 \\\\\n",
    "\\frac{S_*(S_L \\textcolor{red}{q_L} F^L)+S_L P_{LR}D_*}{S_L-S_*}, & \\quad \\text{if } S_L \\leq 0 \\text{ and } S_* \\geq 0 \\\\\n",
    "\\frac{S_*(S_R \\textcolor{red}{q_R} F^R)+S_R P_{LR}D_*}{S_R-S_*}, & \\quad \\text{if } S_R \\geq 0 \\text{ and } S_* \\leq 0\n",
    "\\end{dcases}\n",
    "$$"
   ]
  },
  {
   "cell_type": "code",
   "execution_count": 10,
   "metadata": {},
   "outputs": [],
   "source": [
    "def HLLCFlux(q, BCFun):\n",
    "    qL,qR,rhL,uuL,eeL,ppL,hhL,aaL,FL,rhR,uuR,eeR,ppR,hhR,aaR,FR = LeftRightFluxes(q)\n",
    "\n",
    "    SL = np.minimum(uuL,uuR) - np.maximum(aaL,aaR)\n",
    "    SR = np.minimum(uuL,uuR) + np.maximum(aaL,aaR)\n",
    "    SStar = (ppR-ppL + rhL*uuL*(SL-uuL) - rhR*uuR*(SR-uuR))/(\n",
    "        rhL*(SL-uuL) - rhR*(SR-uuR)\n",
    "    )\n",
    "    PLR = 0.5*(ppL+ppR + rhL*(SL-uuL)*(SStar-uuL) + rhR*(SR-uuR)*(SStar-uuR))\n",
    "\n",
    "    D = np.vstack((\n",
    "        np.zeros(rhL.shape), np.ones(rhL.shape), SStar\n",
    "    ))\n",
    "\n",
    "    FPL = (SStar*(SL*qL-FL) + SL*PLR*D)/(SL-SStar) # here should be qL\n",
    "    FPR = (SStar*(SR*qR-FR) + SR*PLR*D)/(SR-SStar) # here should be qR\n",
    "\n",
    "    # there is some bulean overlaping!!!\n",
    "    flux = FL * 0\n",
    "    flux[:,(SR>0)&(SStar<=0)] = FPR[:,(SR>0)&(SStar<=0)]\n",
    "    flux[:,(SL<0)&(SStar>=0)] = FPL[:,(SL<0)&(SStar>=0)]\n",
    "    flux[:,(SR<=0)] = FR[:,(SR<=0)]\n",
    "    flux[:,SL>=0] = FL[:,SL>=0]\n",
    "\n",
    "\n",
    "    return flux\n",
    "    \n"
   ]
  },
  {
   "cell_type": "code",
   "execution_count": 11,
   "metadata": {},
   "outputs": [],
   "source": [
    "def RusanovFlux(q, BCFun):\n",
    "    qL,qR,rhL,uuL,eeL,ppL,hhL,aaL,FL,rhR,uuR,eeR,ppR,hhR,aaR,FR = LeftRightFluxes(q)\n",
    "\n",
    "    uRoeAvg, hRoeAvg, aRoeAvg = RoeAvg(rhL,rhR,uuL,uuR,hhL,hhR)\n",
    "\n",
    "    waveSpeed = np.amax(np.vstack((\n",
    "        uRoeAvg, np.abs(uRoeAvg+aRoeAvg), np.abs(uRoeAvg-aRoeAvg)\n",
    "    )))\n",
    "    return 0.5*(FL+FR) - 0.5*waveSpeed*(qR-qL)"
   ]
  },
  {
   "cell_type": "code",
   "execution_count": 12,
   "metadata": {},
   "outputs": [],
   "source": [
    "def RK3WENORoeRiemann(uOrig, dX, dT, BCfun):\n",
    "    # NOTE: the journal is incorrect please have a look on\n",
    "    # Proposition 3.2 in TOTAL VARIATION DIMINISHING RUNGE-KUTTA SCHEMES\n",
    "    uOne = uOrig*np.nan\n",
    "    uTwo = uOrig*np.nan\n",
    "    uNow = uOrig*np.nan\n",
    "    # First Intermediate\n",
    "    flux = RoeFlux(uOrig, BoundaryConditionDir)\n",
    "    uOne[:,3:-3] = uOrig[:,3:-3] - dT/dX * (\n",
    "        flux[:,1:] - flux[:,:-1]\n",
    "    )\n",
    "    BCfun(uOne)\n",
    "\n",
    "    # Second Intermediate\n",
    "    flux = RoeFlux(uOne, BoundaryConditionDir)\n",
    "    uTwo[:,3:-3] = 3./4. * uOrig[:,3:-3] + 1./4. * uOne[:,3:-3] - 0.25 * dT/dX * (\n",
    "        flux[:,1:] - flux[:,:-1]\n",
    "    )\n",
    "    BCfun(uTwo)\n",
    "\n",
    "    # Final\n",
    "    flux = RoeFlux(uTwo, BoundaryConditionDir)\n",
    "    uNow[:,3:-3] = 1./3. * uOrig[:,3:-3] + 2./3. * uTwo[:,3:-3] - 2.0/3.0 * dT/dX * (\n",
    "        flux[:,1:] - flux[:,:-1]\n",
    "    )\n",
    "    BCfun(uNow)\n",
    "    return uNow"
   ]
  },
  {
   "cell_type": "code",
   "execution_count": 13,
   "metadata": {},
   "outputs": [],
   "source": [
    "def RK3WENOHLLCRiemann(uOrig, dX, dT, BCfun):\n",
    "    # NOTE: the journal is incorrect please have a look on\n",
    "    # Proposition 3.2 in TOTAL VARIATION DIMINISHING RUNGE-KUTTA SCHEMES\n",
    "    uOne = uOrig*np.nan\n",
    "    uTwo = uOrig*np.nan\n",
    "    uNow = uOrig*np.nan\n",
    "    # First Intermediate\n",
    "    flux = HLLCFlux(uOrig, BoundaryConditionDir)\n",
    "    uOne[:,3:-3] = uOrig[:,3:-3] - dT/dX * (\n",
    "        flux[:,1:] - flux[:,:-1]\n",
    "    )\n",
    "    BCfun(uOne)\n",
    "\n",
    "    # Second Intermediate\n",
    "    flux = HLLCFlux(uOne, BoundaryConditionDir)\n",
    "    uTwo[:,3:-3] = 3./4. * uOrig[:,3:-3] + 1./4. * uOne[:,3:-3] - 0.25 * dT/dX * (\n",
    "        flux[:,1:] - flux[:,:-1]\n",
    "    )\n",
    "    BCfun(uTwo)\n",
    "\n",
    "    # Final\n",
    "    flux = HLLCFlux(uTwo, BoundaryConditionDir)\n",
    "    uNow[:,3:-3] = 1./3. * uOrig[:,3:-3] + 2./3. * uTwo[:,3:-3] - 2.0/3.0 * dT/dX * (\n",
    "        flux[:,1:] - flux[:,:-1]\n",
    "    )\n",
    "    BCfun(uNow)\n",
    "    return uNow"
   ]
  },
  {
   "cell_type": "code",
   "execution_count": 14,
   "metadata": {},
   "outputs": [],
   "source": [
    "def RK3WENORusanovRiemann(uOrig, dX, dT, BCfun):\n",
    "    # NOTE: the journal is incorrect please have a look on\n",
    "    # Proposition 3.2 in TOTAL VARIATION DIMINISHING RUNGE-KUTTA SCHEMES\n",
    "    uOne = uOrig*np.nan\n",
    "    uTwo = uOrig*np.nan\n",
    "    uNow = uOrig*np.nan\n",
    "    # First Intermediate\n",
    "    flux = RusanovFlux(uOrig, BoundaryConditionDir)\n",
    "    uOne[:,3:-3] = uOrig[:,3:-3] - dT/dX * (\n",
    "        flux[:,1:] - flux[:,:-1]\n",
    "    )\n",
    "    BCfun(uOne)\n",
    "\n",
    "    # Second Intermediate\n",
    "    flux = RusanovFlux(uOne, BoundaryConditionDir)\n",
    "    uTwo[:,3:-3] = 3./4. * uOrig[:,3:-3] + 1./4. * uOne[:,3:-3] - 0.25 * dT/dX * (\n",
    "        flux[:,1:] - flux[:,:-1]\n",
    "    )\n",
    "    BCfun(uTwo)\n",
    "\n",
    "    # Final\n",
    "    flux = RusanovFlux(uTwo, BoundaryConditionDir)\n",
    "    uNow[:,3:-3] = 1./3. * uOrig[:,3:-3] + 2./3. * uTwo[:,3:-3] - 2.0/3.0 * dT/dX * (\n",
    "        flux[:,1:] - flux[:,:-1]\n",
    "    )\n",
    "    BCfun(uNow)\n",
    "    return uNow"
   ]
  },
  {
   "cell_type": "code",
   "execution_count": 15,
   "metadata": {},
   "outputs": [],
   "source": [
    "# Domain   0...1\n",
    "xMin, xMax = (0., 1.)\n",
    "numCell = 256\n",
    "xNode = np.linspace(xMin, xMax, num=numCell+1)\n",
    "xCen = (xNode[:-1]+xNode[1:])/2\n",
    "deltaX = xCen[1] - xCen[0]\n",
    "xCwG = np.array([\n",
    "    *(xCen[0:3]-3*deltaX), *xCen, *(xCen[-3:]+3*deltaX)\n",
    "])\n",
    "\n",
    "# temporal\n",
    "tStart = 0.0\n",
    "tEnd = 0.2\n",
    "deltaT = 1e-4\n",
    "numStep = np.rint((tEnd-tStart)/deltaT).astype(int)\n",
    "\n",
    "# how many state to save (w/o initial condition)\n",
    "numSaveState = 10\n",
    "timeState = np.linspace(tStart,tEnd,numSaveState+1,endpoint=True)\n",
    "# timeState = deltaT*np.arange(numSaveState+1)\n"
   ]
  },
  {
   "cell_type": "code",
   "execution_count": 16,
   "metadata": {},
   "outputs": [],
   "source": [
    "uInitial = InitialCondition(xCwG)\n",
    "BoundaryConditionDir(uInitial)\n",
    "\n",
    "States = np.zeros((numSaveState+1, *uInitial.shape))*np.nan\n",
    "\n",
    "uOriginal = uInitial*1.0\n",
    "States[0, :,:] = uOriginal\n",
    "\n",
    "tNow = tStart"
   ]
  },
  {
   "cell_type": "code",
   "execution_count": 17,
   "metadata": {},
   "outputs": [
    {
     "data": {
      "application/vnd.jupyter.widget-view+json": {
       "model_id": "816d04724a7444719ee4d6beb8a63102",
       "version_major": 2,
       "version_minor": 0
      },
      "text/plain": [
       "  0%|          | 0/2000 [00:00<?, ?it/s]"
      ]
     },
     "metadata": {},
     "output_type": "display_data"
    }
   ],
   "source": [
    "\n",
    "for iStep in tqdm(range(numStep)):\n",
    "    tNow += deltaT\n",
    "    uOriginal = RK3WENORusanovRiemann(uOriginal, deltaX, deltaT, BoundaryConditionDir)\n",
    "    \n",
    "    if np.min(np.abs(tNow-timeState)) < deltaT*0.2:\n",
    "        States[np.argmin(np.abs(tNow-timeState)), :,:] = uOriginal"
   ]
  },
  {
   "cell_type": "code",
   "execution_count": 18,
   "metadata": {},
   "outputs": [
    {
     "data": {
      "text/plain": [
       "Text(0.5, 1.0, 'Time Evolution of pressure')"
      ]
     },
     "execution_count": 18,
     "metadata": {},
     "output_type": "execute_result"
    },
    {
     "data": {
      "image/png": "[encoded data removed]",
      "text/plain": [
       "<Figure size 640x480 with 1 Axes>"
      ]
     },
     "metadata": {},
     "output_type": "display_data"
    },
    {
     "data": {
      "image/png": "[encoded data removed]",
      "text/plain": [
       "<Figure size 640x480 with 1 Axes>"
      ]
     },
     "metadata": {},
     "output_type": "display_data"
    },
    {
     "data": {
      "image/png": "[encoded data removed]",
      "text/plain": [
       "<Figure size 640x480 with 1 Axes>"
      ]
     },
     "metadata": {},
     "output_type": "display_data"
    },
    {
     "data": {
      "image/png": "[encoded data removed]",
      "text/plain": [
       "<Figure size 640x480 with 1 Axes>"
      ]
     },
     "metadata": {},
     "output_type": "display_data"
    }
   ],
   "source": [
    "fig1, ax1 = plt.subplots()\n",
    "fig2, ax2 = plt.subplots()\n",
    "fig3, ax3 = plt.subplots()\n",
    "fig4, ax4 = plt.subplots()\n",
    "\n",
    "for i in [numSaveState]:\n",
    "    rho = States[i,0,:]\n",
    "    vel = States[i,1,:]/rho\n",
    "    eng = States[i,2,:]/rho\n",
    "    pre = rho*(gamma-1)*(eng-0.5*vel**2)\n",
    "\n",
    "    ax1.plot(xCwG, rho, linestyle=\"-\")\n",
    "    ax2.plot(xCwG, vel, linestyle=\"-\")\n",
    "    ax3.plot(xCwG, eng, linestyle=\"-\")\n",
    "    ax4.plot(xCwG, pre, linestyle=\"-\") \n",
    "\n",
    "ax1.set_xlim([0,1])\n",
    "ax2.set_xlim([0,1])\n",
    "ax3.set_xlim([0,1])\n",
    "ax4.set_xlim([0,1])\n",
    "\n",
    "ax1.set_ylim([-0.05,1.05])\n",
    "ax2.set_ylim([-0.05,1.05])\n",
    "ax3.set_ylim([1.95,3.4])\n",
    "ax4.set_ylim([-0.05,1.05])\n",
    "\n",
    "ax1.set_title(\"Time Evolution of density\")\n",
    "ax2.set_title(\"Time Evolution of velocity\")\n",
    "ax3.set_title(\"Time Evolution of energy\")\n",
    "ax4.set_title(\"Time Evolution of pressure\")"
   ]
  }
 ],
 "metadata": {
  "kernelspec": {
   "display_name": "base",
   "language": "python",
   "name": "python3"
  },
  "language_info": {
   "codemirror_mode": {
    "name": "ipython",
    "version": 3
   },
   "file_extension": ".py",
   "mimetype": "text/x-python",
   "name": "python",
   "nbconvert_exporter": "python",
   "pygments_lexer": "ipython3",
   "version": "3.9.13"
  },
  "orig_nbformat": 4,
  "vscode": {
   "interpreter": {
    "hash": "21f3e4b7686f5765b53a86d750e9c9699b0ca8e58efbef957fc535a6f28d5d61"
   }
  }
 },
 "nbformat": 4,
 "nbformat_minor": 2
}
