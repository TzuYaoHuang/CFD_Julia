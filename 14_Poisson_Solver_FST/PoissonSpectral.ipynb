{
 "cells": [
  {
   "cell_type": "code",
   "execution_count": 80,
   "metadata": {},
   "outputs": [],
   "source": [
    "\"\"\"\n",
    "2D Poisson Equation\n",
    "    Spatial: Spectral solvers (FFT/FST)\n",
    "\"\"\"\n",
    "import sys\n",
    "import numpy as np\n",
    "import scipy\n",
    "import pyfftw\n",
    "import matplotlib.pyplot as plt\n",
    "from matplotlib import ticker, cm\n",
    "import scipy.sparse\n",
    "import numpy.linalg\n",
    "from tqdm.notebook import tqdm\n",
    "np.set_printoptions(threshold=sys.maxsize, linewidth=np.inf)\n"
   ]
  },
  {
   "cell_type": "code",
   "execution_count": 81,
   "metadata": {},
   "outputs": [],
   "source": [
    "def rms(a):\n",
    "    return np.sqrt(np.mean(a**2))"
   ]
  },
  {
   "cell_type": "code",
   "execution_count": 82,
   "metadata": {},
   "outputs": [],
   "source": [
    "def ExactSolution(x,y):\n",
    "    return np.sin(2*np.pi*x)*np.sin(2*np.pi*y) + 1/16**2 * np.sin(32*np.pi*x)*np.sin(32*np.pi*y)\n",
    "\n",
    "def SourceTerm(x,y):\n",
    "    return -8*np.pi**2*np.sin(2*np.pi*x)*np.sin(2*np.pi*y) -8*np.pi**2*np.sin(32*np.pi*x)*np.sin(32*np.pi*y)"
   ]
  },
  {
   "cell_type": "code",
   "execution_count": 83,
   "metadata": {},
   "outputs": [],
   "source": [
    "def PoissonFFTCentralDiff(fA, dX, dY, mA, nA, Nx, Ny):\n",
    "    eps = 1e-10\n",
    "    f = fA[:-1,:-1]\n",
    "    m = np.roll(mA[:-1,:-1] - Nx/2, (int(Nx/2),int(Ny/2)), axis=(0,1)) # the way of defing wavenumber array is very important\n",
    "    n = np.roll(nA[:-1,:-1] - Ny/2, (int(Nx/2),int(Ny/2)), axis=(0,1)) # should be 0,1,2,3...,N/2, -N/2+1,-N/2+2,...\n",
    "    fTilda = scipy.fft.fft2(f)\n",
    "    u = fA*np.nan\n",
    "    uTilda = fTilda/(2/dX**2*np.cos(2*np.pi*m/Nx) + 2/dY**2*np.cos(2*np.pi*n/Ny)-2/dX**2-2/dY**2+eps)\n",
    "    u[:-1,:-1] = np.real(scipy.fft.ifft2(uTilda))\n",
    "    u[-1,:] = u[0,:]\n",
    "    u[:,-1] = u[:,0]\n",
    "    return u\n"
   ]
  },
  {
   "cell_type": "code",
   "execution_count": 84,
   "metadata": {},
   "outputs": [],
   "source": [
    "def PoissonFFTSpectral(fA, dX, dY, mA, nA, Nx, Ny):\n",
    "    eps = 1e-10\n",
    "    f = fA[:-1,:-1]\n",
    "    m = np.roll(mA[:-1,:-1] - Nx/2, (int(Nx/2),int(Ny/2)), axis=(0,1))\n",
    "    n = np.roll(nA[:-1,:-1] - Ny/2, (int(Nx/2),int(Ny/2)), axis=(0,1))\n",
    "    fTilda = scipy.fft.fft2(f)\n",
    "    u = fA*np.nan\n",
    "    uTilda = -fTilda/((2*np.pi*m/(Nx*dX))**2+(2*np.pi*n/(Ny*dY))**2+eps)\n",
    "    u[:-1,:-1] = np.real(scipy.fft.ifft2(uTilda))\n",
    "    u[-1,:] = u[0,:]\n",
    "    u[:,-1] = u[:,0]\n",
    "    return u\n"
   ]
  },
  {
   "cell_type": "code",
   "execution_count": 85,
   "metadata": {},
   "outputs": [],
   "source": [
    "def PoissonFSTCentralDiff(fA, dX, dY, mA, nA, Nx, Ny):\n",
    "    eps = 1e-10\n",
    "    f = fA[1:-1,1:-1]\n",
    "    m = mA[1:-1,1:-1] # important to plus 1\n",
    "    n = nA[1:-1,1:-1]\n",
    "    fTilda = scipy.fft.dstn(f)\n",
    "    u = fA*0\n",
    "    uTilda = fTilda/(2/dX**2*np.cos(np.pi*m/Nx) + 2/dY**2*np.cos(np.pi*n/Ny)-2/dX**2-2/dY**2+eps)\n",
    "    u[1:-1,1:-1] = np.real(scipy.fft.idstn(uTilda))\n",
    "    return u\n"
   ]
  },
  {
   "cell_type": "code",
   "execution_count": 86,
   "metadata": {},
   "outputs": [],
   "source": [
    "def PoissonpyFFTWFSTCentralDiff(fA, dX, dY, mA, nA, Nx, Ny):\n",
    "    eps = 1e-10\n",
    "    f = fA[1:-1,1:-1]*1\n",
    "    m = mA[1:-1,1:-1] # important to plus 1\n",
    "    n = nA[1:-1,1:-1]\n",
    "\n",
    "    fTilda = f*0\n",
    "    fstOBJ = pyfftw.FFTW(f,fTilda, axes=(0,1),direction=(\"FFTW_RODFT00\",'FFTW_RODFT00'))\n",
    "    fstOBJ()\n",
    "    uTilda = fTilda/(2/dX**2*np.cos(np.pi*m/Nx) + 2/dY**2*np.cos(np.pi*n/Ny)-2/dX**2-2/dY**2+eps)\n",
    "\n",
    "    ut = fTilda*0\n",
    "    ifstOBJ = pyfftw.FFTW(uTilda,ut, axes=(0,1),direction=(\"FFTW_RODFT00\",'FFTW_RODFT00'))\n",
    "    ifstOBJ()\n",
    "    u = fA*0\n",
    "    u[1:-1,1:-1] = ut/(4*(Nx)*(Ny))\n",
    "    return u\n"
   ]
  },
  {
   "cell_type": "code",
   "execution_count": 87,
   "metadata": {},
   "outputs": [],
   "source": [
    "xMin, xMax = 0.0, 1.0\n",
    "yMin, yMax = 0.0, 1.0\n",
    "\n",
    "numXCen = 1024\n",
    "numYCen = 1024\n",
    "numXGrid = numXCen+1\n",
    "numYGrid = numYCen+1\n",
    "\n",
    "xMat, yMat = np.meshgrid(np.linspace(xMin, xMax, numXGrid), np.linspace(yMin, yMax, numYGrid), indexing=\"ij\")\n",
    "mMat, nMat = np.meshgrid(np.arange(numXGrid), np.arange(numYGrid), indexing=\"ij\")\n",
    "\n",
    "uExact = ExactSolution(xMat,yMat)\n",
    "\n",
    "xArray = xMat.flatten()\n",
    "yArray = yMat.flatten()\n",
    "mArray = mMat.flatten()\n",
    "nArray = nMat.flatten()\n",
    "\n",
    "deltaX = xMat[1,0] - xMat[0,0]\n",
    "deltaY = yMat[0,1] - yMat[0,0]\n",
    "\n",
    "rhsF = SourceTerm(xMat, yMat)\n",
    "u = PoissonpyFFTWFSTCentralDiff(rhsF, deltaX, deltaY, mMat, nMat, numXCen, numYCen)\n",
    "# u = PoissonFFTCentralDiff(rhsF, deltaX, deltaY, mMat, nMat, numXCen, numYCen)\n",
    "# u[numXGrid,:] = u[0,:]\n",
    "# u[:,numYGrid] = u[:,0]"
   ]
  },
  {
   "cell_type": "code",
   "execution_count": 88,
   "metadata": {},
   "outputs": [
    {
     "data": {
      "image/png": "[encoded data removed]",
      "text/plain": [
       "<Figure size 640x480 with 2 Axes>"
      ]
     },
     "metadata": {},
     "output_type": "display_data"
    }
   ],
   "source": [
    "fig,ax = plt.subplots()\n",
    "cs = ax.contourf(xMat, yMat, u, 20, cmap=cm.get_cmap('jet'))\n",
    "ax.set_xlim((xMin,xMax))\n",
    "ax.set_ylim((yMin,yMax))\n",
    "ax.set_aspect(\"equal\")\n",
    "cbar = fig.colorbar(cs)"
   ]
  },
  {
   "cell_type": "code",
   "execution_count": 89,
   "metadata": {},
   "outputs": [
    {
     "name": "stdout",
     "output_type": "stream",
     "text": [
      "2.216892989607508e-06\n"
     ]
    }
   ],
   "source": [
    "print(rms(u-uExact))"
   ]
  }
 ],
 "metadata": {
  "kernelspec": {
   "display_name": "base",
   "language": "python",
   "name": "python3"
  },
  "language_info": {
   "codemirror_mode": {
    "name": "ipython",
    "version": 3
   },
   "file_extension": ".py",
   "mimetype": "text/x-python",
   "name": "python",
   "nbconvert_exporter": "python",
   "pygments_lexer": "ipython3",
   "version": "3.9.13"
  },
  "orig_nbformat": 4,
  "vscode": {
   "interpreter": {
    "hash": "21f3e4b7686f5765b53a86d750e9c9699b0ca8e58efbef957fc535a6f28d5d61"
   }
  }
 },
 "nbformat": 4,
 "nbformat_minor": 2
}
