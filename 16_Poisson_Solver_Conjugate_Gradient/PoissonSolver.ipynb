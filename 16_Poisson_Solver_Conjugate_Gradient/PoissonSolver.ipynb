{
 "cells": [
  {
   "cell_type": "code",
   "execution_count": 1,
   "metadata": {},
   "outputs": [],
   "source": [
    "\n",
    "\"\"\"\n",
    "2D Poisson Equation\n",
    "    Spatial: Iterative solvers (FFT/FST)\n",
    "\"\"\"\n",
    "import sys\n",
    "import numpy as np\n",
    "import scipy\n",
    "from numba import jit,njit,float64,int64\n",
    "\n",
    "import matplotlib.pyplot as plt\n",
    "from matplotlib import ticker, cm\n",
    "import scipy.sparse\n",
    "import numpy.linalg\n",
    "from tqdm import tqdm\n",
    "np.set_printoptions(threshold=sys.maxsize, linewidth=np.inf)\n"
   ]
  },
  {
   "cell_type": "code",
   "execution_count": 2,
   "metadata": {},
   "outputs": [],
   "source": [
    "@njit(float64(float64[:,:]))\n",
    "def rms(a):\n",
    "    return np.sqrt(np.mean(a**2))\n"
   ]
  },
  {
   "cell_type": "code",
   "execution_count": 3,
   "metadata": {},
   "outputs": [],
   "source": [
    "@njit\n",
    "def GaussSeidelPoisson(fA, dX, dY, mA, nA, Nx, Ny, uIni):\n",
    "    tol=1e-10\n",
    "    maxIter=100000\n",
    "    d = -2/dX**2 -2/dY**2\n",
    "    u = uIni*1\n",
    "    r = fA*0\n",
    "    relError = tol+1\n",
    "    for numIter in range(maxIter):\n",
    "        if (numIter%5000==0):\n",
    "            print(numIter, relError)\n",
    "        for i in np.arange(1,Nx-1):\n",
    "            for j in np.arange(1,Ny-1):\n",
    "                r[i,j] = fA[i,j] - (u[i+1,j]+u[i-1,j] - 2*u[i,j])/dX**2 - (u[i,j+1]+u[i,j-1] - 2*u[i,j])/dY**2\n",
    "                u[i,j] = u[i,j]+r[i,j]/d\n",
    "        relError = rms(r)/np.abs(d)\n",
    "        if relError<tol:\n",
    "            break\n",
    "    #print(\"The solution stops at error = {relError:.3e}, steps = {iter:5d}\")\n",
    "    print(numIter, relError)\n",
    "    return u\n"
   ]
  },
  {
   "cell_type": "code",
   "execution_count": 4,
   "metadata": {},
   "outputs": [],
   "source": [
    "@njit\n",
    "def ConjugateGradientPoisson(fA, dX, dY, mA, nA, Nx, Ny, uIni):\n",
    "    tol=1e-12\n",
    "    eps = 1e-16\n",
    "    maxIter=100000\n",
    "    d = -2/dX**2 -2/dY**2\n",
    "\n",
    "    u = uIni*1\n",
    "    r = fA*0\n",
    "    r[1:Nx-1,1:Ny-1] = fA[1:Nx-1,1:Ny-1] - (u[2:Nx,1:Ny-1]+u[0:Nx-2,1:Ny-1]-2*u[1:Nx-1,1:Ny-1])/dX**2 - (u[1:Nx-1,2:Ny]+u[1:Nx-1,0:Ny-2]-2*u[1:Nx-1,1:Ny-1])/dY**2\n",
    "    p = r*1 # setting the boundary condition of p will let residual blow up\n",
    "    q = r*0\n",
    "    relError = tol+1\n",
    "    for numIter in range(maxIter):\n",
    "        if (numIter%50==0):\n",
    "            print(numIter, relError)\n",
    "\n",
    "        # q = Ap\n",
    "        q[1:Nx-1,1:Ny-1] = (p[2:Nx,1:Ny-1]+p[0:Nx-2,1:Ny-1]-2*p[1:Nx-1,1:Ny-1])/dX**2 + (p[1:Nx-1,2:Ny]+p[1:Nx-1,0:Ny-2]-2*p[1:Nx-1,1:Ny-1])/dY**2\n",
    "\n",
    "        # <r,r> <q,p>\n",
    "        rho = np.sum(r[1:Nx-1,1:Ny-1]**2)\n",
    "        pq = np.sum(q[1:Nx-1,1:Ny-1]*p[1:Nx-1,1:Ny-1])\n",
    "        alpha = rho/(pq+eps)\n",
    "\n",
    "        u[1:Nx-1,1:Ny-1] = u[1:Nx-1,1:Ny-1]+alpha*p[1:Nx-1,1:Ny-1]\n",
    "\n",
    "        pq = rho\n",
    "        r[1:Nx-1,1:Ny-1] = r[1:Nx-1,1:Ny-1]-alpha*q[1:Nx-1,1:Ny-1]\n",
    "        rho = np.sum(r[1:Nx-1,1:Ny-1]**2)\n",
    "        beta = rho/(pq+eps)\n",
    "\n",
    "        p[1:Nx-1,1:Ny-1] = r[1:Nx-1,1:Ny-1] + beta*p[1:Nx-1,1:Ny-1]\n",
    "\n",
    "        # r = b - Ax\n",
    "        r[1:Nx-1,1:Ny-1] = fA[1:Nx-1,1:Ny-1] - (u[2:Nx,1:Ny-1]+u[0:Nx-2,1:Ny-1]-2*u[1:Nx-1,1:Ny-1])/dX**2 - (u[1:Nx-1,2:Ny]+u[1:Nx-1,0:Ny-2]-2*u[1:Nx-1,1:Ny-1])/dY**2\n",
    "\n",
    "        relError = rms(r)/np.abs(d)\n",
    "\n",
    "        if relError<tol:\n",
    "            break\n",
    "\n",
    "        if numIter >= (Nx-1)*(Ny-1):\n",
    "            break\n",
    "    #print(\"The solution stops at error = {relError:.3e}, steps = {iter:5d}\")\n",
    "    print(numIter, relError)\n",
    "    return u\n",
    "\n"
   ]
  },
  {
   "cell_type": "code",
   "execution_count": 5,
   "metadata": {},
   "outputs": [],
   "source": [
    "def ExactSolution(x,y):\n",
    "    return (x**2-1)*(y**2-1)\n",
    "\n",
    "def SourceTerm(x,y):\n",
    "    return -2*(2-x**2-y**2)"
   ]
  },
  {
   "cell_type": "code",
   "execution_count": 6,
   "metadata": {},
   "outputs": [
    {
     "name": "stdout",
     "output_type": "stream",
     "text": [
      "0 1.000000000001\n",
      "50 0.000366938332764671\n",
      "100 0.00019416073379889987\n",
      "150 0.0001353247931400576\n",
      "200 0.00010490372631416001\n",
      "250 8.510730863666861e-05\n",
      "300 7.00831454074743e-05\n",
      "350 5.755278880056117e-05\n",
      "400 4.595454631843738e-05\n",
      "450 3.546693060841834e-05\n",
      "500 2.702464293913143e-05\n",
      "550 2.0414728432190795e-05\n",
      "600 1.5228294829561546e-05\n",
      "650 1.1115621171952664e-05\n",
      "700 7.823082201653603e-06\n",
      "750 2.1919487569470324e-06\n",
      "800 1.3871107835064396e-06\n",
      "850 7.561542398428171e-07\n",
      "900 4.364720170756812e-07\n",
      "950 2.3738018455330564e-07\n",
      "1000 1.4790035418920475e-07\n",
      "1050 8.491332337062878e-08\n",
      "1100 4.4376859342312245e-08\n",
      "1150 2.2808272563289733e-08\n",
      "1200 1.0545630585639238e-08\n",
      "1250 4.45232283135064e-09\n",
      "1300 1.5692156462340294e-09\n",
      "1350 4.977627715322202e-10\n",
      "1400 2.2591624675856352e-10\n",
      "1450 9.602674128682832e-11\n",
      "1500 4.1158477323952876e-11\n",
      "1550 1.6759621343990017e-11\n",
      "1600 6.099109801686209e-12\n",
      "1650 2.2590040023125214e-12\n",
      "1692 9.988944584779085e-13\n"
     ]
    }
   ],
   "source": [
    "xMin, xMax = 0.0, 1.0\n",
    "yMin, yMax = 0.0, 1.0\n",
    "\n",
    "numXCen = 512\n",
    "numYCen = 512\n",
    "numXGrid = numXCen+1\n",
    "numYGrid = numYCen+1\n",
    "\n",
    "xMat, yMat = np.meshgrid(np.linspace(xMin, xMax, numXGrid), np.linspace(yMin, yMax, numYGrid), indexing=\"ij\")\n",
    "mMat, nMat = np.meshgrid(np.arange(numXGrid), np.arange(numYGrid), indexing=\"ij\")\n",
    "\n",
    "uExact = ExactSolution(xMat,yMat)\n",
    "uBoundary = uExact*1\n",
    "uBoundary[1:-1,1:-1] = 0\n",
    "\n",
    "xArray = xMat.flatten()\n",
    "yArray = yMat.flatten()\n",
    "mArray = mMat.flatten()\n",
    "nArray = nMat.flatten()\n",
    "\n",
    "deltaX = xMat[1,0] - xMat[0,0]\n",
    "deltaY = yMat[0,1] - yMat[0,0]\n",
    "\n",
    "rhsF = SourceTerm(xMat, yMat)\n",
    "u = ConjugateGradientPoisson(rhsF, deltaX, deltaY, mMat, nMat, numXGrid, numYGrid, uBoundary)\n",
    "# u = PoissonFFTCentralDiff(rhsF, deltaX, deltaY, mMat, nMat, numXCen, numYCen)\n",
    "# u[numXGrid,:] = u[0,:]\n",
    "# u[:,numYGrid] = u[:,0]\n",
    "\n"
   ]
  },
  {
   "cell_type": "code",
   "execution_count": 7,
   "metadata": {},
   "outputs": [
    {
     "name": "stdout",
     "output_type": "stream",
     "text": [
      "3.515344859321078e-10\n"
     ]
    },
    {
     "data": {
      "image/png": "[encoded data removed]",
      "text/plain": [
       "<Figure size 640x480 with 2 Axes>"
      ]
     },
     "metadata": {},
     "output_type": "display_data"
    }
   ],
   "source": [
    "fig,ax = plt.subplots()\n",
    "cs = ax.contourf(xMat, yMat, u-uExact, 20, cmap=cm.get_cmap('jet'))\n",
    "ax.set_xlim((xMin,xMax))\n",
    "ax.set_ylim((yMin,yMax))\n",
    "ax.set_aspect(\"equal\")\n",
    "cbar = fig.colorbar(cs)\n",
    "\n",
    "\n",
    "print(rms(u-uExact))\n"
   ]
  }
 ],
 "metadata": {
  "kernelspec": {
   "display_name": "base",
   "language": "python",
   "name": "python3"
  },
  "language_info": {
   "codemirror_mode": {
    "name": "ipython",
    "version": 3
   },
   "file_extension": ".py",
   "mimetype": "text/x-python",
   "name": "python",
   "nbconvert_exporter": "python",
   "pygments_lexer": "ipython3",
   "version": "3.9.13"
  },
  "orig_nbformat": 4,
  "vscode": {
   "interpreter": {
    "hash": "21f3e4b7686f5765b53a86d750e9c9699b0ca8e58efbef957fc535a6f28d5d61"
   }
  }
 },
 "nbformat": 4,
 "nbformat_minor": 2
}
