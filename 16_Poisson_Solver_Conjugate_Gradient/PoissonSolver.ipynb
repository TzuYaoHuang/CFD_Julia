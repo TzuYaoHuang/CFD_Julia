{
 "cells": [
  {
   "cell_type": "code",
   "execution_count": 1,
   "metadata": {},
   "outputs": [],
   "source": [
    "\n",
    "\"\"\"\n",
    "2D Poisson Equation\n",
    "    Spatial: Iterative solvers (FFT/FST)\n",
    "\"\"\"\n",
    "import sys\n",
    "import numpy as np\n",
    "import scipy\n",
    "from numba import jit,float64,int64\n",
    "\n",
    "import matplotlib.pyplot as plt\n",
    "from matplotlib import ticker, cm\n",
    "import scipy.sparse\n",
    "import numpy.linalg\n",
    "from tqdm import tqdm\n",
    "np.set_printoptions(threshold=sys.maxsize, linewidth=np.inf)\n"
   ]
  },
  {
   "cell_type": "code",
   "execution_count": 2,
   "metadata": {},
   "outputs": [],
   "source": [
    "@jit(float64(float64[:,:]))\n",
    "def rms(a):\n",
    "    return np.sqrt(np.mean(a**2))\n"
   ]
  },
  {
   "cell_type": "code",
   "execution_count": 3,
   "metadata": {},
   "outputs": [],
   "source": [
    "@jit\n",
    "def GaussSeidelPoisson(fA, dX, dY, mA, nA, Nx, Ny, uIni):\n",
    "    tol=1e-10\n",
    "    maxIter=100000\n",
    "    d = -2/dX**2 -2/dY**2\n",
    "    u = uIni*1\n",
    "    r = fA*0\n",
    "    numIter = 0\n",
    "    relError = tol+1\n",
    "    for iter in range(maxIter):\n",
    "        if (iter%5000==0):\n",
    "            print(iter, relError)\n",
    "        for i in np.arange(1,Nx-1):\n",
    "            for j in np.arange(1,Ny-1):\n",
    "                r[i,j] = fA[i,j] - (u[i+1,j]+u[i-1,j] - 2*u[i,j])/dX**2 - (u[i,j+1]+u[i,j-1] - 2*u[i,j])/dY**2\n",
    "                u[i,j] = u[i,j]+r[i,j]/d\n",
    "        relError = rms(r)/np.abs(d)\n",
    "        if relError<tol:\n",
    "            break\n",
    "    #print(\"The solution stops at error = {relError:.3e}, steps = {iter:5d}\")\n",
    "    print(iter, relError)\n",
    "    return u\n"
   ]
  },
  {
   "cell_type": "code",
   "execution_count": 4,
   "metadata": {},
   "outputs": [],
   "source": [
    "@jit\n",
    "def ConjugateGradient(fA, dX, dY, mA, nA, Nx, Ny, uIni):\n",
    "    tol=1e-10\n",
    "    maxIter=100000\n",
    "    d = -2/dX**2 -2/dY**2\n",
    "    u = uIni*1\n",
    "    r = fA*0\n",
    "    numIter = 0\n",
    "    relError = tol+1\n",
    "    for iter in range(maxIter):\n",
    "        if (iter%500==0):\n",
    "            print(iter, relError)\n",
    "        for i in np.arange(1,Nx-1):\n",
    "            for j in np.arange(1,Ny-1):\n",
    "                r[i,j] = fA[i,j] - (u[i+1,j]+u[i-1,j] - 2*u[i,j])/dX**2 - (u[i,j+1]+u[i,j-1] - 2*u[i,j])/dY**2\n",
    "                u[i,j] = u[i,j]+r[i,j]/d\n",
    "        relError = rms(r)/np.abs(d)\n",
    "        if relError<tol:\n",
    "            break\n",
    "    #print(\"The solution stops at error = {relError:.3e}, steps = {iter:5d}\")\n",
    "    print(iter, relError)\n",
    "    return u\n",
    "\n"
   ]
  },
  {
   "cell_type": "code",
   "execution_count": 5,
   "metadata": {},
   "outputs": [],
   "source": [
    "def ExactSolution(x,y):\n",
    "    return (x**2-1)*(y**2-1)\n",
    "\n",
    "def SourceTerm(x,y):\n",
    "    return -2*(2-x**2-y**2)"
   ]
  },
  {
   "cell_type": "code",
   "execution_count": 6,
   "metadata": {},
   "outputs": [
    {
     "name": "stdout",
     "output_type": "stream",
     "text": [
      "0 1.0000000001\n",
      "5000 2.2110920390417052e-05\n",
      "10000 1.3494577939161507e-05\n",
      "15000 9.855880290579444e-06\n",
      "20000 7.661154474065802e-06\n",
      "25000 6.128118494309319e-06\n",
      "30000 4.9762871139677075e-06\n",
      "35000 4.075219166103911e-06\n",
      "40000 3.3535050460532267e-06\n",
      "45000 2.767325625559112e-06\n",
      "50000 2.2872989617523004e-06\n",
      "55000 1.8923068833458206e-06\n",
      "60000 1.566375100406918e-06\n",
      "65000 1.2969917743816045e-06\n",
      "70000 1.074135604418398e-06\n",
      "75000 8.896691238952435e-07\n",
      "80000 7.369300595392868e-07\n",
      "85000 6.104374122744427e-07\n",
      "90000 5.056691967334303e-07\n",
      "95000 4.1888844897709755e-07\n",
      "99999 3.470039436394297e-07\n"
     ]
    }
   ],
   "source": [
    "xMin, xMax = 0.0, 1.0\n",
    "yMin, yMax = 0.0, 1.0\n",
    "\n",
    "numXCen = 512\n",
    "numYCen = 512\n",
    "numXGrid = numXCen+1\n",
    "numYGrid = numYCen+1\n",
    "\n",
    "xMat, yMat = np.meshgrid(np.linspace(xMin, xMax, numXGrid), np.linspace(yMin, yMax, numYGrid), indexing=\"ij\")\n",
    "mMat, nMat = np.meshgrid(np.arange(numXGrid), np.arange(numYGrid), indexing=\"ij\")\n",
    "\n",
    "uExact = ExactSolution(xMat,yMat)\n",
    "uBoundary = uExact*1\n",
    "uBoundary[1:-1,1:-1] = 0\n",
    "\n",
    "xArray = xMat.flatten()\n",
    "yArray = yMat.flatten()\n",
    "mArray = mMat.flatten()\n",
    "nArray = nMat.flatten()\n",
    "\n",
    "deltaX = xMat[1,0] - xMat[0,0]\n",
    "deltaY = yMat[0,1] - yMat[0,0]\n",
    "\n",
    "rhsF = SourceTerm(xMat, yMat)\n",
    "u = GaussSeidelPoisson(rhsF, deltaX, deltaY, mMat, nMat, numXGrid, numYGrid, uBoundary)\n",
    "# u = PoissonFFTCentralDiff(rhsF, deltaX, deltaY, mMat, nMat, numXCen, numYCen)\n",
    "# u[numXGrid,:] = u[0,:]\n",
    "# u[:,numYGrid] = u[:,0]\n",
    "\n"
   ]
  },
  {
   "cell_type": "code",
   "execution_count": 10,
   "metadata": {},
   "outputs": [
    {
     "name": "stdout",
     "output_type": "stream",
     "text": [
      "0.009216167903036709\n"
     ]
    },
    {
     "data": {
      "image/png": "[encoded data removed]",
      "text/plain": [
       "<Figure size 640x480 with 2 Axes>"
      ]
     },
     "metadata": {},
     "output_type": "display_data"
    }
   ],
   "source": [
    "fig,ax = plt.subplots()\n",
    "cs = ax.contourf(xMat, yMat, u, 20, cmap=cm.get_cmap('jet'))\n",
    "ax.set_xlim((xMin,xMax))\n",
    "ax.set_ylim((yMin,yMax))\n",
    "ax.set_aspect(\"equal\")\n",
    "cbar = fig.colorbar(cs)\n",
    "\n",
    "\n",
    "print(rms(u-uExact))\n"
   ]
  }
 ],
 "metadata": {
  "kernelspec": {
   "display_name": "base",
   "language": "python",
   "name": "python3"
  },
  "language_info": {
   "codemirror_mode": {
    "name": "ipython",
    "version": 3
   },
   "file_extension": ".py",
   "mimetype": "text/x-python",
   "name": "python",
   "nbconvert_exporter": "python",
   "pygments_lexer": "ipython3",
   "version": "3.9.13"
  },
  "orig_nbformat": 4,
  "vscode": {
   "interpreter": {
    "hash": "21f3e4b7686f5765b53a86d750e9c9699b0ca8e58efbef957fc535a6f28d5d61"
   }
  }
 },
 "nbformat": 4,
 "nbformat_minor": 2
}
